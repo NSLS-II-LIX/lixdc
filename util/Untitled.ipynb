{
 "cells": [
  {
   "cell_type": "code",
   "execution_count": 1,
   "metadata": {
    "collapsed": true
   },
   "outputs": [],
   "source": [
    "import pandas\n",
    "import collections"
   ]
  },
  {
   "cell_type": "code",
   "execution_count": 2,
   "metadata": {
    "collapsed": true
   },
   "outputs": [],
   "source": [
    "excel_file = \"Sample_Import.xlsx\"\n",
    "#plate, samples = import_plate_from_csv(excel_file, owner, project, beamline_id, \"96wp\")"
   ]
  },
  {
   "cell_type": "code",
   "execution_count": 3,
   "metadata": {
    "collapsed": false
   },
   "outputs": [],
   "source": [
    "excel_data = pandas.read_excel(excel_file,header=1)"
   ]
  },
  {
   "cell_type": "code",
   "execution_count": 4,
   "metadata": {
    "collapsed": true
   },
   "outputs": [],
   "source": [
    "owner = \"hhslepicka\"\n",
    "project = \"12345\"\n",
    "beamline_id = \"lix\"\n",
    "kind = \"96wp\""
   ]
  },
  {
   "cell_type": "code",
   "execution_count": 5,
   "metadata": {
    "collapsed": false
   },
   "outputs": [
    {
     "name": "stdout",
     "output_type": "stream",
     "text": [
      "Plate:  {'name': 'Imported Plate', 'beamline_id': 'lix', 'owner': 'hhslepicka', 'barcode': '1000000000001', 'project': '12345', 'kind': '96wp'}\n",
      "Samples:  deque([{'concentration': 0.775, 'volume': 10, 'name': 'Sample Imp 1-1', 'position': {'y': 1, 'x': 1}, 'beamline_id': 'lix', 'owner': 'hhslepicka', 'short_name': 'S1-1', 'project': '12345', 'temperature': 21}, {'concentration': 0.772, 'volume': 10, 'name': 'Sample Imp 1-2', 'position': {'y': 2, 'x': 1}, 'beamline_id': 'lix', 'owner': 'hhslepicka', 'short_name': 'S1-2', 'project': '12345', 'temperature': 21}, {'concentration': 0.776, 'volume': 10, 'name': 'Sample Imp 1-3', 'position': {'y': 3, 'x': 1}, 'beamline_id': 'lix', 'owner': 'hhslepicka', 'short_name': 'S1-3', 'project': '12345', 'temperature': 21}, {'concentration': 0.475, 'volume': 10, 'name': 'Sample Imp 1-4', 'position': {'y': 4, 'x': 1}, 'beamline_id': 'lix', 'owner': 'hhslepicka', 'short_name': 'S1-4', 'project': '12345', 'temperature': 21}, {'concentration': 0.441, 'volume': 10, 'name': 'Sample Imp 1-5', 'position': {'y': 5, 'x': 1}, 'beamline_id': 'lix', 'owner': 'hhslepicka', 'short_name': 'S1-5', 'project': '12345', 'temperature': 21}, {'concentration': 0.788, 'volume': 10, 'name': 'Sample Imp 1-6', 'position': {'y': 6, 'x': 1}, 'beamline_id': 'lix', 'owner': 'hhslepicka', 'short_name': 'S1-6', 'project': '12345', 'temperature': 21}, {'concentration': 0.958, 'volume': 10, 'name': 'Sample Imp 1-7', 'position': {'y': 7, 'x': 1}, 'beamline_id': 'lix', 'owner': 'hhslepicka', 'short_name': 'S1-7', 'project': '12345', 'temperature': 21}, {'concentration': 0.48, 'volume': 10, 'name': 'Sample Imp 1-8', 'position': {'y': 8, 'x': 1}, 'beamline_id': 'lix', 'owner': 'hhslepicka', 'short_name': 'S1-8', 'project': '12345', 'temperature': 21}, {'concentration': 0.317, 'volume': 10, 'name': 'Sample Imp 2-1', 'position': {'y': 1, 'x': 2}, 'beamline_id': 'lix', 'owner': 'hhslepicka', 'short_name': 'S2-1', 'project': '12345', 'temperature': 21}, {'concentration': 0.459, 'volume': 10, 'name': 'Sample Imp 2-2', 'position': {'y': 2, 'x': 2}, 'beamline_id': 'lix', 'owner': 'hhslepicka', 'short_name': 'S2-2', 'project': '12345', 'temperature': 21}, {'concentration': 0.248, 'volume': 10, 'name': 'Sample Imp 2-3', 'position': {'y': 3, 'x': 2}, 'beamline_id': 'lix', 'owner': 'hhslepicka', 'short_name': 'S2-3', 'project': '12345', 'temperature': 21}, {'concentration': 0.39, 'volume': 10, 'name': 'Sample Imp 2-4', 'position': {'y': 4, 'x': 2}, 'beamline_id': 'lix', 'owner': 'hhslepicka', 'short_name': 'S2-4', 'project': '12345', 'temperature': 21}, {'concentration': 0.574, 'volume': 10, 'name': 'Sample Imp 2-5', 'position': {'y': 5, 'x': 2}, 'beamline_id': 'lix', 'owner': 'hhslepicka', 'short_name': 'S2-5', 'project': '12345', 'temperature': 21}, {'concentration': 0.799, 'volume': 10, 'name': 'Sample Imp 2-6', 'position': {'y': 6, 'x': 2}, 'beamline_id': 'lix', 'owner': 'hhslepicka', 'short_name': 'S2-6', 'project': '12345', 'temperature': 21}, {'concentration': 0.371, 'volume': 10, 'name': 'Sample Imp 2-7', 'position': {'y': 7, 'x': 2}, 'beamline_id': 'lix', 'owner': 'hhslepicka', 'short_name': 'S2-7', 'project': '12345', 'temperature': 21}, {'concentration': 0.099, 'volume': 10, 'name': 'Sample Imp 2-8', 'position': {'y': 8, 'x': 2}, 'beamline_id': 'lix', 'owner': 'hhslepicka', 'short_name': 'S2-8', 'project': '12345', 'temperature': 21}])\n"
     ]
    }
   ],
   "source": [
    "samples = collections.deque()\n",
    "\n",
    "for line in excel_data.iterrows():\n",
    "    if line[0] == 0:\n",
    "        name = line[1][0]\n",
    "        barcode = str(int(line[1][1])).zfill(13)\n",
    "        plate_info = {    \n",
    "            \"owner\": owner,\n",
    "            \"project\": project,\n",
    "            \"beamline_id\": beamline_id,\n",
    "            \"kind\": kind,\n",
    "            \"name\": name,\n",
    "            \"barcode\": barcode,\n",
    "        }\n",
    "    x = line[1][2]\n",
    "    y = line[1][3]\n",
    "    s_name = line[1][4]\n",
    "    s_shortname = line[1][5]\n",
    "    s_conc = line[1][6]\n",
    "    s_volume = line[1][7]\n",
    "    s_temperature = line[1][8]\n",
    "    sample_info = {\n",
    "            \"project\": project,\n",
    "            \"beamline_id\": beamline_id,\n",
    "            \"owner\": owner,\n",
    "            \"name\": s_name,\n",
    "            \"short_name\": s_shortname,\n",
    "            \"position\": {\"x\": x, \"y\": y},\n",
    "            \"concentration\": s_conc,\n",
    "            \"volume\": s_volume,\n",
    "            \"temperature\": s_temperature        \n",
    "        }\n",
    "    samples.append(sample_info)\n",
    "    \n",
    "print(\"Plate: \", plate_info)\n",
    "print(\"Samples: \", samples)"
   ]
  },
  {
   "cell_type": "code",
   "execution_count": null,
   "metadata": {
    "collapsed": true
   },
   "outputs": [],
   "source": []
  }
 ],
 "metadata": {
  "kernelspec": {
   "display_name": "Python 3",
   "language": "python",
   "name": "python3"
  },
  "language_info": {
   "codemirror_mode": {
    "name": "ipython",
    "version": 3
   },
   "file_extension": ".py",
   "mimetype": "text/x-python",
   "name": "python",
   "nbconvert_exporter": "python",
   "pygments_lexer": "ipython3",
   "version": "3.4.4"
  }
 },
 "nbformat": 4,
 "nbformat_minor": 0
}
