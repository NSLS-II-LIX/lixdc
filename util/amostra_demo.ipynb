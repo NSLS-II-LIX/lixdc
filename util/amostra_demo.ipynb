{
 "cells": [
  {
   "cell_type": "code",
   "execution_count": 1,
   "metadata": {
    "collapsed": false
   },
   "outputs": [],
   "source": [
    "import amostra\n",
    "import pandas\n",
    "import amostra.client.commands as acc\n",
    "import collections"
   ]
  },
  {
   "cell_type": "code",
   "execution_count": 2,
   "metadata": {
    "collapsed": true
   },
   "outputs": [],
   "source": [
    "# Definitions\n",
    "owner = \"hhslepicka\"\n",
    "project = \"12345\"\n",
    "beamline_id = \"lix\""
   ]
  },
  {
   "cell_type": "code",
   "execution_count": 3,
   "metadata": {
    "collapsed": true
   },
   "outputs": [],
   "source": [
    "container_ref = acc.ContainerReference()\n",
    "sample_ref = acc.SampleReference()"
   ]
  },
  {
   "cell_type": "code",
   "execution_count": 4,
   "metadata": {
    "collapsed": true
   },
   "outputs": [],
   "source": [
    "def insert_plate(plate_info):\n",
    "    plate = container_ref.create(**plate_info)\n",
    "    return plate\n",
    "\n",
    "def insert_sample_list(samples):\n",
    "    result = sample_ref.create_sample_list(samples)\n",
    "    return result"
   ]
  },
  {
   "cell_type": "code",
   "execution_count": 5,
   "metadata": {
    "collapsed": false
   },
   "outputs": [],
   "source": [
    "def generate_plate(owner, project, beamline_id, kind, name, barcode, content):\n",
    "    plate_info = {    \n",
    "            \"owner\": owner,\n",
    "            \"project\": project,\n",
    "            \"beamline_id\": beamline_id,\n",
    "            \"kind\": kind,\n",
    "            \"name\": name,\n",
    "            \"barcode\": barcode,\n",
    "            \"content\": list(content)\n",
    "    }\n",
    "\n",
    "    return insert_plate(plate_info)\n",
    "\n",
    "def generate_samples_96wp(project, beamline_id, owner, name):\n",
    "    samples = collections.deque()\n",
    "    for i in range(96):\n",
    "        sample_info = {\n",
    "            \"project\": project,\n",
    "            \"beamline_id\": beamline_id,\n",
    "            \"owner\": owner,\n",
    "            \"name\": name+\" {}\".format(i+1),\n",
    "            \"position\": {\"x\": int(i % 8), \"y\": int(i/8)},\n",
    "            \"concentration\": 0.001,\n",
    "            \"volume\": 10,\n",
    "            \"temperature\": 21.4    \n",
    "        }\n",
    "        samples.append(sample_info)\n",
    "    uids = insert_sample_list(samples)\n",
    "    return uids\n",
    "\n",
    "def find_plate_by_barcode(owner, project, beamline_id, barcode):\n",
    "    samples = collections.deque()\n",
    "    plate_info = list(container_ref.find(owner=owner, project=project, beamline_id=beamline_id, barcode=barcode))[0]\n",
    "    for s_uid in plate_info['content']:\n",
    "        samples.append(next(sample_ref.find(uid=s_uid)))\n",
    "    \n",
    "    plate_info['content'] = list(samples)\n",
    "    return plate_info"
   ]
  },
  {
   "cell_type": "code",
   "execution_count": 6,
   "metadata": {
    "collapsed": false
   },
   "outputs": [],
   "source": [
    "number_of_plates = 1"
   ]
  },
  {
   "cell_type": "code",
   "execution_count": null,
   "metadata": {
    "collapsed": false
   },
   "outputs": [],
   "source": [
    "for i in range(number_of_plates):\n",
    "    samples = generate_samples_96wp(project, beamline_id, owner, \"Test Sample\")\n",
    "    plate1 = generate_plate(owner, project, beamline_id, \"96wp\", \"Plate {}\".format(i+1), \"{}\".format(i+1).zfill(13), samples)"
   ]
  },
  {
   "cell_type": "code",
   "execution_count": 7,
   "metadata": {
    "collapsed": true
   },
   "outputs": [],
   "source": [
    "def import_plate_from_excel(fname, owner, project, beamline_id, plate_kind):\n",
    "    samples = collections.deque()\n",
    "    excel_data = pandas.read_excel(fname,header=1)\n",
    "    \n",
    "    for line in excel_data.iterrows():\n",
    "        if line[0] == 0:\n",
    "            name = line[1][0]\n",
    "            barcode = str(int(line[1][1])).zfill(13)\n",
    "            plate_info = {    \n",
    "                \"owner\": owner,\n",
    "                \"project\": project,\n",
    "                \"beamline_id\": beamline_id,\n",
    "                \"kind\": plate_kind,\n",
    "                \"name\": name,\n",
    "                \"barcode\": barcode,\n",
    "            }\n",
    "        s_x = line[1][2]\n",
    "        s_y = line[1][3]\n",
    "        s_name = line[1][4]\n",
    "        s_shortname = line[1][5]\n",
    "        s_conc = line[1][6]\n",
    "        s_volume = line[1][7]\n",
    "        s_temperature = line[1][8]\n",
    "        sample_info = {\n",
    "                \"project\": project,\n",
    "                \"beamline_id\": beamline_id,\n",
    "                \"owner\": owner,\n",
    "                \"name\": s_name,\n",
    "                \"short_name\": s_shortname,\n",
    "                \"position\": {\"x\": s_x, \"y\": s_y},\n",
    "                \"concentration\": s_conc,\n",
    "                \"volume\": s_volume,\n",
    "                \"temperature\": s_temperature        \n",
    "            }\n",
    "        samples.append(sample_info)\n",
    "        \n",
    "    return plate_info, samples"
   ]
  },
  {
   "cell_type": "code",
   "execution_count": 8,
   "metadata": {
    "collapsed": false
   },
   "outputs": [],
   "source": [
    "excel_file = \"Sample_Import.xlsx\"\n",
    "plate, samples = import_plate_from_excel(excel_file, owner, project, beamline_id, \"96wp\")"
   ]
  },
  {
   "cell_type": "code",
   "execution_count": 9,
   "metadata": {
    "collapsed": false
   },
   "outputs": [],
   "source": [
    "content = insert_sample_list(samples)\n",
    "plate['content'] = content\n",
    "inserted_plate = insert_plate(plate)"
   ]
  },
  {
   "cell_type": "code",
   "execution_count": 10,
   "metadata": {
    "collapsed": false
   },
   "outputs": [
    {
     "data": {
      "text/plain": [
       "'ae25ad97-9122-4380-8949-045d5c01c9ab'"
      ]
     },
     "execution_count": 10,
     "metadata": {},
     "output_type": "execute_result"
    }
   ],
   "source": [
    "inserted_plate"
   ]
  },
  {
   "cell_type": "code",
   "execution_count": 11,
   "metadata": {
    "collapsed": false
   },
   "outputs": [],
   "source": [
    "r = find_plate_by_barcode(owner, project, beamline_id, \"1000000000001\".zfill(13))"
   ]
  },
  {
   "cell_type": "code",
   "execution_count": 12,
   "metadata": {
    "collapsed": false
   },
   "outputs": [
    {
     "data": {
      "text/plain": [
       "'Imported Plate'"
      ]
     },
     "execution_count": 12,
     "metadata": {},
     "output_type": "execute_result"
    }
   ],
   "source": [
    "r[\"name\"]"
   ]
  },
  {
   "cell_type": "code",
   "execution_count": 13,
   "metadata": {
    "collapsed": false
   },
   "outputs": [
    {
     "name": "stdout",
     "output_type": "stream",
     "text": [
      "Sample Data:  {'position': {'y': 1, 'x': 1}, 'concentration': 0.775, 'volume': 10, 'time': 1461611493.341079, 'uid': '5384ad0d-ea27-4db0-a196-38086ac3e27e', 'short_name': 'S1-1', 'name': 'Sample Imp 1-1', 'owner': 'hhslepicka', 'project': '12345', 'beamline_id': 'lix', 'temperature': 21}\n",
      "Sample Data:  {'position': {'y': 2, 'x': 1}, 'concentration': 0.772, 'volume': 10, 'time': 1461611493.493785, 'uid': 'd033a02f-7dd6-4993-b1ac-944aa1044408', 'short_name': 'S1-2', 'name': 'Sample Imp 1-2', 'owner': 'hhslepicka', 'project': '12345', 'beamline_id': 'lix', 'temperature': 21}\n",
      "Sample Data:  {'position': {'y': 3, 'x': 1}, 'concentration': 0.776, 'volume': 10, 'time': 1461611493.499471, 'uid': 'a50ab58e-7958-406a-a8e7-dd7e0290be65', 'short_name': 'S1-3', 'name': 'Sample Imp 1-3', 'owner': 'hhslepicka', 'project': '12345', 'beamline_id': 'lix', 'temperature': 21}\n",
      "Sample Data:  {'position': {'y': 4, 'x': 1}, 'concentration': 0.47500000000000003, 'volume': 10, 'time': 1461611493.505143, 'uid': '2fca7442-afbe-4cdc-a903-93d9fd8ddd74', 'short_name': 'S1-4', 'name': 'Sample Imp 1-4', 'owner': 'hhslepicka', 'project': '12345', 'beamline_id': 'lix', 'temperature': 21}\n",
      "Sample Data:  {'position': {'y': 5, 'x': 1}, 'concentration': 0.441, 'volume': 10, 'time': 1461611493.510904, 'uid': '503cc7d4-3e87-436e-9a15-c5e88a3e46ba', 'short_name': 'S1-5', 'name': 'Sample Imp 1-5', 'owner': 'hhslepicka', 'project': '12345', 'beamline_id': 'lix', 'temperature': 21}\n",
      "Sample Data:  {'position': {'y': 6, 'x': 1}, 'concentration': 0.788, 'volume': 10, 'time': 1461611493.51627, 'uid': '3546521e-0eb0-4360-88d0-1bf848460047', 'short_name': 'S1-6', 'name': 'Sample Imp 1-6', 'owner': 'hhslepicka', 'project': '12345', 'beamline_id': 'lix', 'temperature': 21}\n",
      "Sample Data:  {'position': {'y': 7, 'x': 1}, 'concentration': 0.9580000000000001, 'volume': 10, 'time': 1461611493.521669, 'uid': 'e090cb0a-b04d-41b4-8e51-200a887955a1', 'short_name': 'S1-7', 'name': 'Sample Imp 1-7', 'owner': 'hhslepicka', 'project': '12345', 'beamline_id': 'lix', 'temperature': 21}\n",
      "Sample Data:  {'position': {'y': 8, 'x': 1}, 'concentration': 0.48, 'volume': 10, 'time': 1461611493.526889, 'uid': 'a04ba6bc-624f-4437-8529-e9cbb3a342f5', 'short_name': 'S1-8', 'name': 'Sample Imp 1-8', 'owner': 'hhslepicka', 'project': '12345', 'beamline_id': 'lix', 'temperature': 21}\n",
      "Sample Data:  {'position': {'y': 1, 'x': 2}, 'concentration': 0.317, 'volume': 10, 'time': 1461611493.53207, 'uid': 'a92a89b0-49e5-4e5d-9499-6d48f2056f35', 'short_name': 'S2-1', 'name': 'Sample Imp 2-1', 'owner': 'hhslepicka', 'project': '12345', 'beamline_id': 'lix', 'temperature': 21}\n",
      "Sample Data:  {'position': {'y': 2, 'x': 2}, 'concentration': 0.459, 'volume': 10, 'time': 1461611493.538007, 'uid': '1e5ddbc7-4e6f-49a4-98a1-eb8c5236f249', 'short_name': 'S2-2', 'name': 'Sample Imp 2-2', 'owner': 'hhslepicka', 'project': '12345', 'beamline_id': 'lix', 'temperature': 21}\n",
      "Sample Data:  {'position': {'y': 3, 'x': 2}, 'concentration': 0.248, 'volume': 10, 'time': 1461611493.543411, 'uid': '200ececf-c79c-40d4-a79c-73de318c6aae', 'short_name': 'S2-3', 'name': 'Sample Imp 2-3', 'owner': 'hhslepicka', 'project': '12345', 'beamline_id': 'lix', 'temperature': 21}\n",
      "Sample Data:  {'position': {'y': 4, 'x': 2}, 'concentration': 0.39, 'volume': 10, 'time': 1461611493.548502, 'uid': 'bffdaef4-537c-41f4-927f-96ee3c318d92', 'short_name': 'S2-4', 'name': 'Sample Imp 2-4', 'owner': 'hhslepicka', 'project': '12345', 'beamline_id': 'lix', 'temperature': 21}\n",
      "Sample Data:  {'position': {'y': 5, 'x': 2}, 'concentration': 0.5740000000000001, 'volume': 10, 'time': 1461611493.554735, 'uid': '646387a2-e672-405c-9587-cd175c9316da', 'short_name': 'S2-5', 'name': 'Sample Imp 2-5', 'owner': 'hhslepicka', 'project': '12345', 'beamline_id': 'lix', 'temperature': 21}\n",
      "Sample Data:  {'position': {'y': 6, 'x': 2}, 'concentration': 0.799, 'volume': 10, 'time': 1461611493.560167, 'uid': '416ef1c9-bc46-4d01-a434-b9cbcd07965d', 'short_name': 'S2-6', 'name': 'Sample Imp 2-6', 'owner': 'hhslepicka', 'project': '12345', 'beamline_id': 'lix', 'temperature': 21}\n",
      "Sample Data:  {'position': {'y': 7, 'x': 2}, 'concentration': 0.371, 'volume': 10, 'time': 1461611493.565299, 'uid': '8b129844-0f4c-4a02-bafd-606536f4d0b3', 'short_name': 'S2-7', 'name': 'Sample Imp 2-7', 'owner': 'hhslepicka', 'project': '12345', 'beamline_id': 'lix', 'temperature': 21}\n",
      "Sample Data:  {'position': {'y': 8, 'x': 2}, 'concentration': 0.099, 'volume': 10, 'time': 1461611493.571066, 'uid': '9f0d48e0-dea6-4e4c-81b2-e857d1583965', 'short_name': 'S2-8', 'name': 'Sample Imp 2-8', 'owner': 'hhslepicka', 'project': '12345', 'beamline_id': 'lix', 'temperature': 21}\n"
     ]
    }
   ],
   "source": [
    "for sample in r[\"content\"]:\n",
    "    print(\"Sample Data: \", sample)"
   ]
  },
  {
   "cell_type": "code",
   "execution_count": null,
   "metadata": {
    "collapsed": true
   },
   "outputs": [],
   "source": []
  }
 ],
 "metadata": {
  "kernelspec": {
   "display_name": "Python 3",
   "language": "python",
   "name": "python3"
  },
  "language_info": {
   "codemirror_mode": {
    "name": "ipython",
    "version": 3
   },
   "file_extension": ".py",
   "mimetype": "text/x-python",
   "name": "python",
   "nbconvert_exporter": "python",
   "pygments_lexer": "ipython3",
   "version": "3.4.4"
  }
 },
 "nbformat": 4,
 "nbformat_minor": 0
}
