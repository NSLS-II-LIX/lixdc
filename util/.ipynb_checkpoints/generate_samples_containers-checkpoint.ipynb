{
 "cells": [
  {
   "cell_type": "code",
   "execution_count": 2,
   "metadata": {
    "collapsed": false
   },
   "outputs": [],
   "source": [
    "import amostra\n",
    "import pandas\n",
    "import amostra.client.commands as acc\n",
    "import collections"
   ]
  },
  {
   "cell_type": "code",
   "execution_count": 3,
   "metadata": {
    "collapsed": true
   },
   "outputs": [],
   "source": [
    "# Definitions\n",
    "owner = \"hhslepicka\"\n",
    "project = \"12345\"\n",
    "beamline_id = \"lix\""
   ]
  },
  {
   "cell_type": "code",
   "execution_count": 4,
   "metadata": {
    "collapsed": true
   },
   "outputs": [],
   "source": [
    "container_ref = acc.ContainerReference()\n",
    "sample_ref = acc.SampleReference()"
   ]
  },
  {
   "cell_type": "code",
   "execution_count": null,
   "metadata": {
    "collapsed": false
   },
   "outputs": [],
   "source": [
    "def generate_plate(owner, project, beamline_id, kind, name, barcode, content):\n",
    "    plate_info = {    \n",
    "            \"owner\": owner,\n",
    "            \"project\": project,\n",
    "            \"beamline_id\": beamline_id,\n",
    "            \"kind\": kind,\n",
    "            \"name\": name,\n",
    "            \"barcode\": barcode,\n",
    "            \"content\": list(content)\n",
    "    }\n",
    "\n",
    "    plate = container_ref.create(**plate_info)\n",
    "    return plate\n",
    "\n",
    "def generate_samples_96wp(project, beamline_id, owner, name):\n",
    "    samples = collections.deque()\n",
    "    for i in range(96):\n",
    "        sample_info = {\n",
    "            \"project\": project,\n",
    "            \"beamline_id\": beamline_id,\n",
    "            \"owner\": owner,\n",
    "            \"name\": name+\" {}\".format(i+1),\n",
    "            \"position\": {\"x\": int(i % 8), \"y\": int(i/8)}\n",
    "        }\n",
    "        s = sample_ref.create(**sample_info)\n",
    "        samples.append(s['uid'])\n",
    "    return samples\n",
    "\n",
    "def find_plate_by_barcode(owner, project, beamline_id, barcode):\n",
    "    return list(container_ref.find(owner=owner, project=project, beamline_id=beamline_id, barcode=barcode))"
   ]
  },
  {
   "cell_type": "code",
   "execution_count": null,
   "metadata": {
    "collapsed": false
   },
   "outputs": [],
   "source": [
    "number_of_plates = 1"
   ]
  },
  {
   "cell_type": "code",
   "execution_count": null,
   "metadata": {
    "collapsed": false
   },
   "outputs": [],
   "source": [
    "%%timeit\n",
    "for i in range(number_of_plates):\n",
    "    samples = generate_samples_96wp(project, beamline_id, owner, \"Test Sample\")\n",
    "    plate1 = generate_plate(owner, project, beamline_id, \"96wp\", \"Plate {}\".format(i+1), \"{}\".format(i+1).zfill(13), samples)"
   ]
  },
  {
   "cell_type": "code",
   "execution_count": null,
   "metadata": {
    "collapsed": false
   },
   "outputs": [],
   "source": [
    "r = find_plate_by_barcode(owner, project, beamline_id, \"1\".zfill(13))"
   ]
  },
  {
   "cell_type": "code",
   "execution_count": null,
   "metadata": {
    "collapsed": false
   },
   "outputs": [],
   "source": [
    "for itm in r:\n",
    "    print(itm['name']+\", samples: \"+str(len(itm['content']))+\", \\t code: \"+itm['barcode'])"
   ]
  },
  {
   "cell_type": "code",
   "execution_count": null,
   "metadata": {
    "collapsed": true
   },
   "outputs": [],
   "source": [
    "plate = r[0]"
   ]
  },
  {
   "cell_type": "code",
   "execution_count": null,
   "metadata": {
    "collapsed": false
   },
   "outputs": [],
   "source": [
    "list(sample_ref.find(uid=plate['content'][7]))"
   ]
  },
  {
   "cell_type": "code",
   "execution_count": null,
   "metadata": {
    "collapsed": true
   },
   "outputs": [],
   "source": [
    "def import_plate_from_csv(fname, owner, project, beamline_id, plate_kind):\n",
    "    \n",
    "    return None, None"
   ]
  },
  {
   "cell_type": "code",
   "execution_count": null,
   "metadata": {
    "collapsed": true
   },
   "outputs": [],
   "source": [
    "excel_file = \"Sample_Import.xlsx\"\n",
    "plate, samples = import_plate_from_csv(excel_file, owner, project, beamline_id, \"96wp\")"
   ]
  }
 ],
 "metadata": {
  "kernelspec": {
   "display_name": "Python 3",
   "language": "python",
   "name": "python3"
  },
  "language_info": {
   "codemirror_mode": {
    "name": "ipython",
    "version": 3
   },
   "file_extension": ".py",
   "mimetype": "text/x-python",
   "name": "python",
   "nbconvert_exporter": "python",
   "pygments_lexer": "ipython3",
   "version": "3.4.4"
  }
 },
 "nbformat": 4,
 "nbformat_minor": 0
}
