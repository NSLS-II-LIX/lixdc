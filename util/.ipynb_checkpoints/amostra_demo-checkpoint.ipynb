{
 "cells": [
  {
   "cell_type": "code",
   "execution_count": 1,
   "metadata": {
    "collapsed": false
   },
   "outputs": [],
   "source": [
    "import amostra\n",
    "import pandas\n",
    "import amostra.client.commands as acc\n",
    "import collections"
   ]
  },
  {
   "cell_type": "code",
   "execution_count": 2,
   "metadata": {
    "collapsed": true
   },
   "outputs": [],
   "source": [
    "# Definitions\n",
    "owner = \"hhslepicka\"\n",
    "project = \"12345\"\n",
    "beamline_id = \"lix\""
   ]
  },
  {
   "cell_type": "code",
   "execution_count": 3,
   "metadata": {
    "collapsed": true
   },
   "outputs": [],
   "source": [
    "container_ref = acc.ContainerReference()\n",
    "sample_ref = acc.SampleReference()"
   ]
  },
  {
   "cell_type": "code",
   "execution_count": 4,
   "metadata": {
    "collapsed": true
   },
   "outputs": [],
   "source": [
    "def insert_plate(plate_info):\n",
    "    plate = container_ref.create(**plate_info)\n",
    "    return plate\n",
    "\n",
    "def insert_sample_list(samples):\n",
    "    result = sample_ref.create_sample_list(samples)\n",
    "    return result"
   ]
  },
  {
   "cell_type": "code",
   "execution_count": 5,
   "metadata": {
    "collapsed": false
   },
   "outputs": [],
   "source": [
    "def generate_plate(owner, project, beamline_id, kind, name, barcode, content):\n",
    "    plate_info = {    \n",
    "            \"owner\": owner,\n",
    "            \"project\": project,\n",
    "            \"beamline_id\": beamline_id,\n",
    "            \"kind\": kind,\n",
    "            \"name\": name,\n",
    "            \"barcode\": barcode,\n",
    "            \"content\": list(content)\n",
    "    }\n",
    "\n",
    "    return insert_plate(plate_info)\n",
    "\n",
    "def generate_samples_96wp(project, beamline_id, owner, name):\n",
    "    samples = collections.deque()\n",
    "    for i in range(96):\n",
    "        sample_info = {\n",
    "            \"project\": project,\n",
    "            \"beamline_id\": beamline_id,\n",
    "            \"owner\": owner,\n",
    "            \"name\": name+\" {}\".format(i+1),\n",
    "            \"position\": {\"x\": int(i % 8), \"y\": int(i/8)},\n",
    "            \"concentration\": 0.001,\n",
    "            \"volume\": 10,\n",
    "            \"temperature\": 21.4    \n",
    "        }\n",
    "        samples.append(sample_info)\n",
    "    uids = insert_sample_list(samples)\n",
    "    return uids\n",
    "\n",
    "def find_plate_by_barcode(owner, project, beamline_id, barcode):\n",
    "    samples = collections.deque()\n",
    "    plate_info = list(container_ref.find(owner=owner, project=project, beamline_id=beamline_id, barcode=barcode))[0]\n",
    "    for s_uid in plate_info['content']:\n",
    "        samples.append(next(sample_ref.find(uid=s_uid)))\n",
    "    \n",
    "    plate_info['content'] = list(samples)\n",
    "    return plate_info"
   ]
  },
  {
   "cell_type": "code",
   "execution_count": 6,
   "metadata": {
    "collapsed": false
   },
   "outputs": [],
   "source": [
    "number_of_plates = 1"
   ]
  },
  {
   "cell_type": "code",
   "execution_count": 7,
   "metadata": {
    "collapsed": false
   },
   "outputs": [
    {
     "ename": "TypeError",
     "evalue": "insert_plate() got an unexpected keyword argument 'name'",
     "output_type": "error",
     "traceback": [
      "\u001b[0;31m---------------------------------------------------------------------------\u001b[0m",
      "\u001b[0;31mTypeError\u001b[0m                                 Traceback (most recent call last)",
      "\u001b[0;32m<ipython-input-7-9f241c9bc4ac>\u001b[0m in \u001b[0;36m<module>\u001b[0;34m()\u001b[0m\n\u001b[1;32m      1\u001b[0m \u001b[0;32mfor\u001b[0m \u001b[0mi\u001b[0m \u001b[0;32min\u001b[0m \u001b[0mrange\u001b[0m\u001b[0;34m(\u001b[0m\u001b[0mnumber_of_plates\u001b[0m\u001b[0;34m)\u001b[0m\u001b[0;34m:\u001b[0m\u001b[0;34m\u001b[0m\u001b[0m\n\u001b[1;32m      2\u001b[0m     \u001b[0msamples\u001b[0m \u001b[0;34m=\u001b[0m \u001b[0mgenerate_samples_96wp\u001b[0m\u001b[0;34m(\u001b[0m\u001b[0mproject\u001b[0m\u001b[0;34m,\u001b[0m \u001b[0mbeamline_id\u001b[0m\u001b[0;34m,\u001b[0m \u001b[0mowner\u001b[0m\u001b[0;34m,\u001b[0m \u001b[0;34m\"Test Sample\"\u001b[0m\u001b[0;34m)\u001b[0m\u001b[0;34m\u001b[0m\u001b[0m\n\u001b[0;32m----> 3\u001b[0;31m     \u001b[0mplate1\u001b[0m \u001b[0;34m=\u001b[0m \u001b[0mgenerate_plate\u001b[0m\u001b[0;34m(\u001b[0m\u001b[0mowner\u001b[0m\u001b[0;34m,\u001b[0m \u001b[0mproject\u001b[0m\u001b[0;34m,\u001b[0m \u001b[0mbeamline_id\u001b[0m\u001b[0;34m,\u001b[0m \u001b[0;34m\"96wp\"\u001b[0m\u001b[0;34m,\u001b[0m \u001b[0;34m\"Plate {}\"\u001b[0m\u001b[0;34m.\u001b[0m\u001b[0mformat\u001b[0m\u001b[0;34m(\u001b[0m\u001b[0mi\u001b[0m\u001b[0;34m+\u001b[0m\u001b[0;36m1\u001b[0m\u001b[0;34m)\u001b[0m\u001b[0;34m,\u001b[0m \u001b[0;34m\"{}\"\u001b[0m\u001b[0;34m.\u001b[0m\u001b[0mformat\u001b[0m\u001b[0;34m(\u001b[0m\u001b[0mi\u001b[0m\u001b[0;34m+\u001b[0m\u001b[0;36m1\u001b[0m\u001b[0;34m)\u001b[0m\u001b[0;34m.\u001b[0m\u001b[0mzfill\u001b[0m\u001b[0;34m(\u001b[0m\u001b[0;36m13\u001b[0m\u001b[0;34m)\u001b[0m\u001b[0;34m,\u001b[0m \u001b[0msamples\u001b[0m\u001b[0;34m)\u001b[0m\u001b[0;34m\u001b[0m\u001b[0m\n\u001b[0m",
      "\u001b[0;32m<ipython-input-5-9a0a9967a754>\u001b[0m in \u001b[0;36mgenerate_plate\u001b[0;34m(owner, project, beamline_id, kind, name, barcode, content)\u001b[0m\n\u001b[1;32m     10\u001b[0m     }\n\u001b[1;32m     11\u001b[0m \u001b[0;34m\u001b[0m\u001b[0m\n\u001b[0;32m---> 12\u001b[0;31m     \u001b[0;32mreturn\u001b[0m \u001b[0minsert_plate\u001b[0m\u001b[0;34m(\u001b[0m\u001b[0;34m**\u001b[0m\u001b[0mplate_info\u001b[0m\u001b[0;34m)\u001b[0m\u001b[0;34m\u001b[0m\u001b[0m\n\u001b[0m\u001b[1;32m     13\u001b[0m \u001b[0;34m\u001b[0m\u001b[0m\n\u001b[1;32m     14\u001b[0m \u001b[0;32mdef\u001b[0m \u001b[0mgenerate_samples_96wp\u001b[0m\u001b[0;34m(\u001b[0m\u001b[0mproject\u001b[0m\u001b[0;34m,\u001b[0m \u001b[0mbeamline_id\u001b[0m\u001b[0;34m,\u001b[0m \u001b[0mowner\u001b[0m\u001b[0;34m,\u001b[0m \u001b[0mname\u001b[0m\u001b[0;34m)\u001b[0m\u001b[0;34m:\u001b[0m\u001b[0;34m\u001b[0m\u001b[0m\n",
      "\u001b[0;31mTypeError\u001b[0m: insert_plate() got an unexpected keyword argument 'name'"
     ]
    }
   ],
   "source": [
    "for i in range(number_of_plates):\n",
    "    samples = generate_samples_96wp(project, beamline_id, owner, \"Test Sample\")\n",
    "    plate1 = generate_plate(owner, project, beamline_id, \"96wp\", \"Plate {}\".format(i+1), \"{}\".format(i+1).zfill(13), samples)"
   ]
  },
  {
   "cell_type": "code",
   "execution_count": null,
   "metadata": {
    "collapsed": true
   },
   "outputs": [],
   "source": [
    "def import_plate_from_excel(fname, owner, project, beamline_id, plate_kind):\n",
    "    samples = collections.deque()\n",
    "    excel_data = pandas.read_excel(fname,header=1)\n",
    "    \n",
    "    for line in excel_data.iterrows():\n",
    "        if line[0] == 0:\n",
    "            name = line[1][0]\n",
    "            barcode = str(int(line[1][1])).zfill(13)\n",
    "            plate_info = {    \n",
    "                \"owner\": owner,\n",
    "                \"project\": project,\n",
    "                \"beamline_id\": beamline_id,\n",
    "                \"kind\": plate_kind,\n",
    "                \"name\": name,\n",
    "                \"barcode\": barcode,\n",
    "            }\n",
    "        s_x = line[1][2]\n",
    "        s_y = line[1][3]\n",
    "        s_name = line[1][4]\n",
    "        s_shortname = line[1][5]\n",
    "        s_conc = line[1][6]\n",
    "        s_volume = line[1][7]\n",
    "        s_temperature = line[1][8]\n",
    "        sample_info = {\n",
    "                \"project\": project,\n",
    "                \"beamline_id\": beamline_id,\n",
    "                \"owner\": owner,\n",
    "                \"name\": s_name,\n",
    "                \"short_name\": s_shortname,\n",
    "                \"position\": {\"x\": s_x, \"y\": s_y},\n",
    "                \"concentration\": s_conc,\n",
    "                \"volume\": s_volume,\n",
    "                \"temperature\": s_temperature        \n",
    "            }\n",
    "        samples.append(sample_info)\n",
    "        \n",
    "    return plate_info, samples"
   ]
  },
  {
   "cell_type": "code",
   "execution_count": null,
   "metadata": {
    "collapsed": false
   },
   "outputs": [],
   "source": [
    "excel_file = \"Sample_Import.xlsx\"\n",
    "plate, samples = import_plate_from_excel(excel_file, owner, project, beamline_id, \"96wp\")"
   ]
  },
  {
   "cell_type": "code",
   "execution_count": null,
   "metadata": {
    "collapsed": false
   },
   "outputs": [],
   "source": [
    "content = insert_sample_list(samples)\n",
    "plate['content'] = content\n",
    "inserted_plate = insert_plate(plate)"
   ]
  },
  {
   "cell_type": "code",
   "execution_count": null,
   "metadata": {
    "collapsed": false
   },
   "outputs": [],
   "source": [
    "inserted_plate"
   ]
  },
  {
   "cell_type": "code",
   "execution_count": null,
   "metadata": {
    "collapsed": false
   },
   "outputs": [],
   "source": [
    "r = find_plate_by_barcode(owner, project, beamline_id, \"1000000000001\".zfill(13))"
   ]
  },
  {
   "cell_type": "code",
   "execution_count": null,
   "metadata": {
    "collapsed": false
   },
   "outputs": [],
   "source": [
    "r[\"name\"]"
   ]
  },
  {
   "cell_type": "code",
   "execution_count": null,
   "metadata": {
    "collapsed": true
   },
   "outputs": [],
   "source": []
  }
 ],
 "metadata": {
  "kernelspec": {
   "display_name": "Python 3",
   "language": "python",
   "name": "python3"
  },
  "language_info": {
   "codemirror_mode": {
    "name": "ipython",
    "version": 3
   },
   "file_extension": ".py",
   "mimetype": "text/x-python",
   "name": "python",
   "nbconvert_exporter": "python",
   "pygments_lexer": "ipython3",
   "version": "3.4.4"
  }
 },
 "nbformat": 4,
 "nbformat_minor": 0
}
